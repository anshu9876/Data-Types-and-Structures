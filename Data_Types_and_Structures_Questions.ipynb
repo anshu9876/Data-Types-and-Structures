{
  "nbformat": 4,
  "nbformat_minor": 0,
  "metadata": {
    "colab": {
      "provenance": []
    },
    "kernelspec": {
      "name": "python3",
      "display_name": "Python 3"
    },
    "language_info": {
      "name": "python"
    }
  },
  "cells": [
    {
      "cell_type": "markdown",
      "source": [
        "1.What are data structures, and why are they important"
      ],
      "metadata": {
        "id": "2Cs4-mzdYWDM"
      }
    },
    {
      "cell_type": "markdown",
      "source": [
        "Data structure are the format of storing data in a specific manner.\n",
        "It is important because it make the retirval of the data easy and you can add delete data easily.\n",
        "ex-list tuples etc"
      ],
      "metadata": {
        "id": "wQ2sXSoHYZaX"
      }
    },
    {
      "cell_type": "markdown",
      "source": [
        "2.Explain the difference between mutable and immutable data types with example\n",
        "\n",
        "Mutable means if you have already added data item to the data structure you can always change it by using index you can replace the element using the index,\n",
        " Ex-L=[1,2,4,4,5]\n",
        " print(L)  output=1,2,4,4,5\n",
        " L[0]=9\n",
        " print(L)  output=9,2,4,4,5\n",
        "\n",
        "Immutable means you cannot change element to the data structure using index\n",
        "Ex-t=(1,2,4,4,5)\n",
        " print(L)  output=1,2,4,4,5\n",
        " L[0]=9\n",
        " print(L)  output=error"
      ],
      "metadata": {
        "id": "RgPshWT4Y2iT"
      }
    },
    {
      "cell_type": "markdown",
      "source": [
        "3.What are the main differences between lists and tuples in Python\n",
        "\n",
        "\n",
        "List-\n",
        "1.mutable\n",
        "2.ordered\n",
        "Tuple-\n",
        "1.immutable\n",
        "2.ordered"
      ],
      "metadata": {
        "id": "F_WXiPpEZ1Qf"
      }
    },
    {
      "cell_type": "markdown",
      "source": [
        " 4.Describe how dictionaries store data\n",
        "\n",
        " Dict store data in form of key pair and represented by {}\n",
        " we can access the value by using the key"
      ],
      "metadata": {
        "id": "a_orBLmXaS7U"
      }
    },
    {
      "cell_type": "markdown",
      "source": [
        "5. Why might you use a set instead of a list in Python\n",
        "\n",
        "List is a ordered collection but it used to store duplicate values also and set\n",
        "is unordered collection and it does not contain duplicate values"
      ],
      "metadata": {
        "id": "x23-JPBlarLT"
      }
    },
    {
      "cell_type": "markdown",
      "source": [
        "6.What is a string in Python, and how is it different from a list\n",
        "\n",
        "Characters arranged in an unchangeable order consider writing a sentence a paragraph or a piece of material\n",
        "\n",
        "Each character in the string can be accessed by its index, or position\n",
        "\n",
        "where as list is a ordered collection which is used to store any type of data and can be accessed by index only and it is mutable\n"
      ],
      "metadata": {
        "id": "JT7pa7OXZ6_Q"
      }
    },
    {
      "cell_type": "markdown",
      "source": [
        "7.How do tuples ensure data integrity in Python\n",
        "\n",
        "In Python, tuples ensure data integrity by being immutable. This means that once a tuple is created, its elements cannot be modified, added, or removed. The immutability of tuples makes them useful in scenarios where data should remain consistent and unchanged throughout the program, preventing accidental or unauthorized modifications."
      ],
      "metadata": {
        "id": "l72l8T4IbjDk"
      }
    },
    {
      "cell_type": "markdown",
      "source": [
        "8.What is a hash table, and how does it relate to dictionaries in Python\n",
        "\n",
        "A hash table is a data structure that stores data in key-value pairs and uses a hash function to compute an index for each key, allowing for fast access, insertion, and deletion of elements. It works by mapping keys to indices in an underlying array, where the values are stored."
      ],
      "metadata": {
        "id": "xUjzTmLrbzxG"
      }
    },
    {
      "cell_type": "markdown",
      "source": [
        "9.Can lists contain different data types in Python\n",
        "\n",
        "Yes list can contain diferent data types in python"
      ],
      "metadata": {
        "id": "F_vEaSlFcA4F"
      }
    },
    {
      "cell_type": "markdown",
      "source": [
        "10.Explain why strings are immutable in Python\n",
        "\n",
        "Strings in Python are immutable, meaning once a string is created, its content cannot be changed.\n",
        "\n",
        "Strings in Python are immutable, meaning once a string is created, its content cannot be changed."
      ],
      "metadata": {
        "id": "ICbr489bcQ_C"
      }
    },
    {
      "cell_type": "markdown",
      "source": [
        "11.What advantages do dictionaries offer over lists for certain tasks\n",
        "\n",
        "Dictionaries provide\n",
        "O(1) average-time complexity for lookups, thanks to their underlying hash table implementation.\n",
        "\n",
        "Lists, on the other hand, require\n",
        "O(n) time to search for an element unless you know the exact index.\n",
        "\n",
        "Dictionaries store data in key-value pairs, making them ideal for scenarios where you need to associate unique keys with specific values.\n",
        "\n",
        "Lists are better for ordered collections of data without specific key associations."
      ],
      "metadata": {
        "id": "3XZUoGnucpmH"
      }
    },
    {
      "cell_type": "markdown",
      "source": [
        "12.Describe a scenario where using a tuple would be preferable over a list\n",
        "\n",
        "Suppose you have to store bank detail of a person or aadhar number you will store that in tuple only because it is immutable and it maintain the intergrity of the data whereas the list is mutable and data can be changed any time with leads to data loss"
      ],
      "metadata": {
        "id": "67mBsjh_c9m5"
      }
    },
    {
      "cell_type": "markdown",
      "source": [
        "13.How do sets handle duplicate values in Python\n",
        "\n",
        "How Sets Handle Duplicates:\n",
        "When a value is added to a set:\n",
        "\n",
        "The set computes a hash for the value.\n",
        "It checks if an element with the same hash already exists.\n",
        "If a matching hash exists, the duplicate is not added"
      ],
      "metadata": {
        "id": "IiCVMTZGdckD"
      }
    },
    {
      "cell_type": "markdown",
      "source": [
        "14. How does the “in” keyword work differently for lists and dictionaries\n",
        "\n",
        "For Lists\n",
        "The in keyword checks if the value exists as an element in the list.\n",
        "It performs a linear search, meaning it iterates through each element in the list until a match is found or the end is reached.\n",
        "\n",
        "For Dictionaries\n",
        "The in keyword checks for keys, not values, in a dictionary.\n",
        "It uses the dictionary's hash table implementation to check for membership."
      ],
      "metadata": {
        "id": "LGQhUlBMd3LT"
      }
    },
    {
      "cell_type": "markdown",
      "source": [
        "15.Can you modify the elements of a tuple? Explain why or why not\n",
        "\n",
        "No, you cannot modify the elements of a tuple in Python. This is because tuples are immutable, meaning their content cannot be changed after they are created"
      ],
      "metadata": {
        "id": "u4JWXYLYeI5K"
      }
    },
    {
      "cell_type": "markdown",
      "source": [
        "16. What is a nested dictionary, and give an example of its use case\n",
        "\n"
      ],
      "metadata": {
        "id": "ABubTU0GeUpZ"
      }
    },
    {
      "cell_type": "markdown",
      "source": [
        "17.Describe the time complexity of accessing elements in a dictionary\n",
        "\n",
        "\n",
        " Average Case\n",
        "Time Complexity:\n",
        "O(1)\n",
        "Why: Python dictionaries use a hash table implementation. When you access an element by its key, the key is hashed, and the hash value is used to locate the value in the underlying array directly. This eliminates the need for a linear search.\n",
        "\n",
        "\n",
        "Worst Case\n",
        "Time Complexity:\n",
        "O(n)\n",
        "Why: In rare cases, hash collisions occur, where multiple keys produce the same hash value. When this happens, the dictionary resolves the collision by storing the colliding keys in a data structure like a linked list or a binary search tree. Accessing an element in such cases requires a search through these structures."
      ],
      "metadata": {
        "id": "eqGZqbu3eg_H"
      }
    },
    {
      "cell_type": "markdown",
      "source": [
        "18.In what situations are lists preferred over dictionaries\n",
        "\n",
        "When Order Matters\n",
        "Lists maintain the order of elements, which is crucial if the sequence or relative position of elements needs to be preserved.\n",
        "\n",
        "When Index-Based Access Is Needed\n",
        "Use lists when you need to access elements by their position (index) rather than a key."
      ],
      "metadata": {
        "id": "qnjBynz9e48m"
      }
    },
    {
      "cell_type": "markdown",
      "source": [
        "19.Why are dictionaries considered unordered, and how does that affect data retrieval\n",
        "\n",
        "Ans.Dictionaries are considered unordered in the sense that the order of items (key-value pairs) in a dictionary is not guaranteed to remain consistent across operations in some older implementations. However, in modern Python versions (3.7+), dictionaries maintain the insertion order as an implementation detail, which has become a formal language guarantee starting with Python 3.7\n",
        "\n"
      ],
      "metadata": {
        "id": "R0cmFwUUfONS"
      }
    },
    {
      "cell_type": "markdown",
      "source": [
        "20.Explain the difference between a list and a dictionary in terms of data retrieval\n",
        "\n",
        "Ans.List: A list is an ordered collection of elements indexed by their position, starting from 0.\n",
        "\n",
        "Example: my_list = [10, 20, 30]\n",
        "Data retrieval is done using integer indices, e.g., my_list[1] returns 20.\n",
        "Dictionary: A dictionary is an unordered (in older versions of Python) or insertion-ordered (Python 3.7+) collection of key-value pairs.\n",
        "\n",
        "Example: my_dict = {'a': 10, 'b': 20, 'c': 30}\n",
        "Data retrieval is done using keys, e.g., my_dict['b'] returns 20."
      ],
      "metadata": {
        "id": "gqI839d8_ksd"
      }
    },
    {
      "cell_type": "markdown",
      "source": [
        "1.Write a code to create a string with your name and print it\n"
      ],
      "metadata": {
        "id": "xNBu7tpQpE89"
      }
    },
    {
      "cell_type": "code",
      "source": [
        "name=\"sumit\"\n",
        "print(name)"
      ],
      "metadata": {
        "colab": {
          "base_uri": "https://localhost:8080/"
        },
        "id": "JZXqBtnHpJhL",
        "outputId": "e903dd09-6d9d-49d9-8d7e-2861d2dd6797"
      },
      "execution_count": 1,
      "outputs": [
        {
          "output_type": "stream",
          "name": "stdout",
          "text": [
            "sumit\n"
          ]
        }
      ]
    },
    {
      "cell_type": "markdown",
      "source": [
        "2.Write a code to find the length of the string \"Hello World\""
      ],
      "metadata": {
        "id": "Hpa_mmuSpZAk"
      }
    },
    {
      "cell_type": "code",
      "source": [
        "input=\"Hello World\"\n",
        "print(len(input))\n",
        ""
      ],
      "metadata": {
        "colab": {
          "base_uri": "https://localhost:8080/"
        },
        "id": "Mh0IEs92paxS",
        "outputId": "9ef750fa-9ace-4b65-8984-35e66eb4dd2b"
      },
      "execution_count": 6,
      "outputs": [
        {
          "output_type": "stream",
          "name": "stdout",
          "text": [
            "11\n"
          ]
        }
      ]
    },
    {
      "cell_type": "markdown",
      "source": [
        "3.Write a code to slice the first 3 characters from the string \"Python Programming"
      ],
      "metadata": {
        "id": "ApSncg9FpsV9"
      }
    },
    {
      "cell_type": "code",
      "source": [
        "name=\"Python Programming\"\n",
        "print(name[0:3])"
      ],
      "metadata": {
        "colab": {
          "base_uri": "https://localhost:8080/"
        },
        "id": "f85zCvyWpx2c",
        "outputId": "b5fbbf04-b456-4e8f-c1b8-36743a567bba"
      },
      "execution_count": 7,
      "outputs": [
        {
          "output_type": "stream",
          "name": "stdout",
          "text": [
            "Pyt\n"
          ]
        }
      ]
    },
    {
      "cell_type": "markdown",
      "source": [
        "4.Write a code to convert the string \"hello\" to uppercaseE"
      ],
      "metadata": {
        "id": "Yg3vfBjBqBfy"
      }
    },
    {
      "cell_type": "code",
      "source": [
        "n=\"hello\"\n",
        "uppertext=n.upper()\n",
        "print(uppertext)"
      ],
      "metadata": {
        "colab": {
          "base_uri": "https://localhost:8080/"
        },
        "id": "SB1P1jA1qFEw",
        "outputId": "1e800dc5-7574-4798-aca6-2bb015bcea3a"
      },
      "execution_count": 8,
      "outputs": [
        {
          "output_type": "stream",
          "name": "stdout",
          "text": [
            "HELLO\n"
          ]
        }
      ]
    },
    {
      "cell_type": "markdown",
      "source": [
        "5.Write a code to replace the word \"apple\" with \"orange\" in the string \"I like apple\""
      ],
      "metadata": {
        "id": "FFC59L9gqZoc"
      }
    },
    {
      "cell_type": "code",
      "source": [
        "n=\"I like apple\"\n",
        "print(n.replace(\"apple\",\"orange\"))"
      ],
      "metadata": {
        "colab": {
          "base_uri": "https://localhost:8080/"
        },
        "id": "E1rz_F1QqdWI",
        "outputId": "0bb86ec9-102e-4338-9b91-9a47ee3a9ab3"
      },
      "execution_count": 10,
      "outputs": [
        {
          "output_type": "stream",
          "name": "stdout",
          "text": [
            "I like orange\n"
          ]
        }
      ]
    },
    {
      "cell_type": "markdown",
      "source": [
        "6.Write a code to create a list with numbers 1 to 5 and print it"
      ],
      "metadata": {
        "id": "z-Ll4u-1qq54"
      }
    },
    {
      "cell_type": "code",
      "source": [
        "list=[1,2,3,4,5]\n",
        "for i in list:\n",
        "  print(i)"
      ],
      "metadata": {
        "colab": {
          "base_uri": "https://localhost:8080/"
        },
        "id": "sFOQGHTjqu8c",
        "outputId": "7a0dee4d-bf77-40a3-c8e2-fa0e8a4a69df"
      },
      "execution_count": 11,
      "outputs": [
        {
          "output_type": "stream",
          "name": "stdout",
          "text": [
            "1\n",
            "2\n",
            "3\n",
            "4\n",
            "5\n"
          ]
        }
      ]
    },
    {
      "cell_type": "markdown",
      "source": [
        "7. Write a code to append the number 10 to the list [1, 2, 3, 4]\n"
      ],
      "metadata": {
        "id": "q99A0fBXq4Vx"
      }
    },
    {
      "cell_type": "code",
      "source": [
        "l=[1,2,3,4]\n",
        "l.append(10)\n",
        "print(l)"
      ],
      "metadata": {
        "colab": {
          "base_uri": "https://localhost:8080/"
        },
        "id": "hegj5MZCrIKs",
        "outputId": "6d4a2bf1-fe97-401a-9bdc-8455c42df715"
      },
      "execution_count": 13,
      "outputs": [
        {
          "output_type": "stream",
          "name": "stdout",
          "text": [
            "[1, 2, 3, 4, 10]\n"
          ]
        }
      ]
    },
    {
      "cell_type": "markdown",
      "source": [
        "8.Write a code **to** remove the number 3 from the list [1, 2, 3, 4, 5]"
      ],
      "metadata": {
        "id": "jTEAk2nSrO9-"
      }
    },
    {
      "cell_type": "code",
      "source": [
        "l=[1,2,3,4,5]\n",
        "l.remove(3)\n",
        "print(l)"
      ],
      "metadata": {
        "colab": {
          "base_uri": "https://localhost:8080/"
        },
        "id": "4bKupYDbrUfI",
        "outputId": "f9edc185-4f95-4538-fe17-e687a68be94c"
      },
      "execution_count": 14,
      "outputs": [
        {
          "output_type": "stream",
          "name": "stdout",
          "text": [
            "[1, 2, 4, 5]\n"
          ]
        }
      ]
    },
    {
      "cell_type": "markdown",
      "source": [
        "9. Write a code to access the second element in the list ['a', 'b', 'c', 'd']"
      ],
      "metadata": {
        "id": "1kwcgUcVrkP4"
      }
    },
    {
      "cell_type": "code",
      "source": [
        "n=[\"a\",\"b\",\"c\",\"d\"]\n",
        "second =n[1]\n",
        "print(second)\n",
        "\n"
      ],
      "metadata": {
        "colab": {
          "base_uri": "https://localhost:8080/"
        },
        "id": "XJ05AbTprmTw",
        "outputId": "12a9e6d5-2a7b-4a5b-edf7-58c44d2554d5"
      },
      "execution_count": 20,
      "outputs": [
        {
          "output_type": "stream",
          "name": "stdout",
          "text": [
            "b\n"
          ]
        }
      ]
    },
    {
      "cell_type": "markdown",
      "source": [
        "10.Write a code to reverse the list [10, 20, 30, 40, 50]"
      ],
      "metadata": {
        "id": "K4d-1L8csM7X"
      }
    },
    {
      "cell_type": "code",
      "source": [
        "my_list = [10, 20, 30, 40, 50]\n",
        "my_list.reverse()  # Reverse the list in place\n",
        "print(my_list)  # Output: [50, 40, 30, 20, 10]\n"
      ],
      "metadata": {
        "colab": {
          "base_uri": "https://localhost:8080/"
        },
        "id": "gTQxjnM2supm",
        "outputId": "cdc55fd1-4782-4806-8771-5e65ef1c607c"
      },
      "execution_count": 21,
      "outputs": [
        {
          "output_type": "stream",
          "name": "stdout",
          "text": [
            "[50, 40, 30, 20, 10]\n"
          ]
        }
      ]
    },
    {
      "cell_type": "markdown",
      "source": [
        "11. Write a code to create a tuple with the elements 10, 20, 30 and print it"
      ],
      "metadata": {
        "id": "Rq83bRDcsyHR"
      }
    },
    {
      "cell_type": "code",
      "source": [
        "tuple=(10,20,30)\n",
        "print(tuple)"
      ],
      "metadata": {
        "colab": {
          "base_uri": "https://localhost:8080/"
        },
        "id": "k39Mv4Bfszq7",
        "outputId": "9ff5b096-6fac-49a8-8d64-e32576604a53"
      },
      "execution_count": 22,
      "outputs": [
        {
          "output_type": "stream",
          "name": "stdout",
          "text": [
            "(10, 20, 30)\n"
          ]
        }
      ]
    },
    {
      "cell_type": "markdown",
      "source": [
        "12.Write a code to access the first element of the tuple ('apple', 'banana', 'cherry')"
      ],
      "metadata": {
        "id": "L-iDcURXtC03"
      }
    },
    {
      "cell_type": "code",
      "source": [
        "tuple=('apple', 'banana', 'cherry')\n",
        "print(tuple[0])"
      ],
      "metadata": {
        "colab": {
          "base_uri": "https://localhost:8080/"
        },
        "id": "CRRZ5zwXtFDU",
        "outputId": "23ef86f4-b20c-4cf3-b00e-fbf0993e38f6"
      },
      "execution_count": 23,
      "outputs": [
        {
          "output_type": "stream",
          "name": "stdout",
          "text": [
            "apple\n"
          ]
        }
      ]
    },
    {
      "cell_type": "markdown",
      "source": [
        "13. Write a code to count how many times the number 2 appears in the tuple (1, 2, 3, 2, 4, 2)"
      ],
      "metadata": {
        "id": "rNFi2qomtL6-"
      }
    },
    {
      "cell_type": "code",
      "source": [
        "my_tuple = (1, 2, 3, 2, 4, 2)\n",
        "count_of_2 = 0\n",
        "\n",
        "for num in my_tuple:\n",
        "    if num == 2:\n",
        "        count_of_2 += 1\n",
        "\n",
        "print(count_of_2)"
      ],
      "metadata": {
        "colab": {
          "base_uri": "https://localhost:8080/"
        },
        "id": "ZZOfr31ZtOTJ",
        "outputId": "187bd0fe-280f-4c1d-8cbb-191582fbdbd5"
      },
      "execution_count": 29,
      "outputs": [
        {
          "output_type": "stream",
          "name": "stdout",
          "text": [
            "3\n"
          ]
        }
      ]
    },
    {
      "cell_type": "markdown",
      "source": [
        "14. Write a code to find the index of the element \"cat\" in the tuple ('dog', 'cat', 'rabbit')"
      ],
      "metadata": {
        "id": "fgnum1fWt9V_"
      }
    },
    {
      "cell_type": "code",
      "source": [
        "tuple=('dog', 'cat', 'rabbit')\n",
        "tuple.index(\"cat\")\n"
      ],
      "metadata": {
        "colab": {
          "base_uri": "https://localhost:8080/"
        },
        "id": "bvovpqe2uAvw",
        "outputId": "8c40daee-008a-4bad-e244-a778a89ac70f"
      },
      "execution_count": 30,
      "outputs": [
        {
          "output_type": "execute_result",
          "data": {
            "text/plain": [
              "1"
            ]
          },
          "metadata": {},
          "execution_count": 30
        }
      ]
    },
    {
      "cell_type": "markdown",
      "source": [
        "15.5. Write a code to check if the element \"banana\" is in the tuple ('apple', 'orange', 'banana')"
      ],
      "metadata": {
        "id": "X8uNrCISuSR0"
      }
    },
    {
      "cell_type": "code",
      "source": [
        "l=[\"apple\", \"orange\", \"banana\"]\n",
        "if \"banana\" in l:\n",
        "  print(\"yes\")"
      ],
      "metadata": {
        "colab": {
          "base_uri": "https://localhost:8080/"
        },
        "id": "nFs2gZKGuVuE",
        "outputId": "562df1e6-fc66-4982-c61c-aa5ca71ea415"
      },
      "execution_count": 31,
      "outputs": [
        {
          "output_type": "stream",
          "name": "stdout",
          "text": [
            "yes\n"
          ]
        }
      ]
    },
    {
      "cell_type": "markdown",
      "source": [
        "16.6. Write a code to create a set with the elements 1, 2, 3, 4, 5 and print it"
      ],
      "metadata": {
        "id": "PDEtAOLxuaYv"
      }
    },
    {
      "cell_type": "code",
      "source": [
        "set={1,2,3,4,5}\n",
        "print(set)"
      ],
      "metadata": {
        "colab": {
          "base_uri": "https://localhost:8080/"
        },
        "id": "qlh-vHvFuenC",
        "outputId": "32638842-5f60-448d-b4c3-5a5b74883a13"
      },
      "execution_count": 32,
      "outputs": [
        {
          "output_type": "stream",
          "name": "stdout",
          "text": [
            "{1, 2, 3, 4, 5}\n"
          ]
        }
      ]
    },
    {
      "cell_type": "markdown",
      "source": [
        "17. Write a code to add the element 6 to the set {1, 2, 3, 4}\n"
      ],
      "metadata": {
        "id": "qtoU4xEtuk_X"
      }
    },
    {
      "cell_type": "code",
      "source": [
        "s={1,2,3,4}\n",
        "s.add(6)\n",
        "print(s)"
      ],
      "metadata": {
        "colab": {
          "base_uri": "https://localhost:8080/"
        },
        "id": "DwNS9I9Eun69",
        "outputId": "51fe6de7-8b83-45e2-a2e6-dfc608c3e3d8"
      },
      "execution_count": 35,
      "outputs": [
        {
          "output_type": "stream",
          "name": "stdout",
          "text": [
            "{1, 2, 3, 4, 6}\n"
          ]
        }
      ]
    },
    {
      "cell_type": "markdown",
      "source": [
        "18.8. Write a code to create a tuple with the elements 10, 20, 30 and print it"
      ],
      "metadata": {
        "id": "_oQ__cr7u18u"
      }
    },
    {
      "cell_type": "code",
      "source": [
        "tuple=(10,20,30)\n",
        "print(tuple)"
      ],
      "metadata": {
        "colab": {
          "base_uri": "https://localhost:8080/"
        },
        "id": "yhPPC6Wbu5zZ",
        "outputId": "0fe7ad2a-87f5-4d1e-c20d-6dd726e98e22"
      },
      "execution_count": 36,
      "outputs": [
        {
          "output_type": "stream",
          "name": "stdout",
          "text": [
            "(10, 20, 30)\n"
          ]
        }
      ]
    },
    {
      "cell_type": "markdown",
      "source": [
        "19. Write a code to access the first element of the tuple ('apple', 'banana', 'cherry')"
      ],
      "metadata": {
        "id": "3Pqk8v9qu_Ca"
      }
    },
    {
      "cell_type": "code",
      "source": [
        "tuple=(\"apple\", \"banana\", \"cherry\")\n",
        "print(tuple[0])"
      ],
      "metadata": {
        "colab": {
          "base_uri": "https://localhost:8080/"
        },
        "id": "s1BtKLnrvAYY",
        "outputId": "ad866563-7838-4593-8b9e-0903ff6b695e"
      },
      "execution_count": 37,
      "outputs": [
        {
          "output_type": "stream",
          "name": "stdout",
          "text": [
            "apple\n"
          ]
        }
      ]
    },
    {
      "cell_type": "markdown",
      "source": [
        "20. Write a code to count how many times the number 2 appears in the tuple (1, 2, 3, 2, 4, 2)"
      ],
      "metadata": {
        "id": "4lSTvMCSvGf-"
      }
    },
    {
      "cell_type": "code",
      "source": [
        "from itertools import count\n",
        "t=(1,2,3,2,4,2)\n",
        "count=0\n",
        "for i in t:\n",
        "  if i==2:\n",
        "    count=count+1\n",
        "print(count)"
      ],
      "metadata": {
        "colab": {
          "base_uri": "https://localhost:8080/"
        },
        "id": "trQhgEfcvJq8",
        "outputId": "b19f86db-6632-4590-c724-c6ed4d33745e"
      },
      "execution_count": 38,
      "outputs": [
        {
          "output_type": "stream",
          "name": "stdout",
          "text": [
            "3\n"
          ]
        }
      ]
    },
    {
      "cell_type": "markdown",
      "source": [
        "21.1. Write a code to find the index of the element \"cat\" in the tuple ('dog', 'cat', 'rabbit')"
      ],
      "metadata": {
        "id": "lHSu2rZ8vPt-"
      }
    },
    {
      "cell_type": "markdown",
      "source": [],
      "metadata": {
        "id": "eUkGTYFOvS56"
      }
    }
  ]
}